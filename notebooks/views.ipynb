{
 "cells": [
  {
   "cell_type": "code",
   "execution_count": 1,
   "id": "7cfe619e-c8e0-416b-99cd-338f6eb65ee3",
   "metadata": {},
   "outputs": [
    {
     "data": {
      "application/vnd.jupyter.widget-view+json": {
       "model_id": "a456ac478b424636bb799711e523f737",
       "version_major": 2,
       "version_minor": 0
      },
      "text/plain": []
     },
     "metadata": {},
     "output_type": "display_data"
    }
   ],
   "source": [
    "import mdtraj as mdt\n",
    "import nglview as nv\n",
    "from ligands import (find_ligands_in_traj, get_ligand_atom_indices, ligand_centroid,\n",
    "maximum_distance, ligand_maximum_extent)\n",
    "from matplotlib.colors import to_rgb\n",
    "import numpy as np"
   ]
  },
  {
   "cell_type": "code",
   "execution_count": 2,
   "id": "cdd524d1-6527-4507-b87a-5b9dae0b0f27",
   "metadata": {},
   "outputs": [],
   "source": [
    "def extract_chain(traj, chains):\n",
    "    \"\"\" Extract chains from a trajectory\n",
    "\n",
    "        Parameters\n",
    "        ----------\n",
    "        traj: mdtraj.trajectory\n",
    "\n",
    "        chains: list[int]\n",
    "\n",
    "        Returns\n",
    "        -------\n",
    "        new_traj: mdtraj.Trajectory\n",
    "\n",
    "    \"\"\"\n",
    "    topology = traj.topology\n",
    "    new_traj = traj.atom_slice(\n",
    "        [atom.index for atom in topology.atoms if (atom.residue.chain.index in chains)]\n",
    "    )\n",
    "    return new_traj"
   ]
  },
  {
   "cell_type": "code",
   "execution_count": 3,
   "id": "e8472f6a-ac09-4c6e-b293-71397a045029",
   "metadata": {},
   "outputs": [],
   "source": [
    "def add_sphere_to_view(view, center, radius):\n",
    "    \"\"\" Add a sphere to a view. \"\"\"\n",
    "    color = '#B03A2E'\n",
    "    n_components = len(view._ngl_component_ids)\n",
    "    view.shape.add_sphere(center.tolist(), to_rgb(color), radius, \"sphere\")\n",
    "    view.update_representation(component=n_components, repr_index=0, opacity=0.3)"
   ]
  },
  {
   "cell_type": "code",
   "execution_count": 4,
   "id": "90885657-0d0b-4bbe-8efc-802520035f5b",
   "metadata": {},
   "outputs": [],
   "source": [
    "traj = mdt.load(\"../../test_cases/eralpha/1qku/1qku.pdb\")\n",
    "traj = extract_chain(traj, [0, 3])\n",
    "view = nv.show_mdtraj(traj)"
   ]
  },
  {
   "cell_type": "code",
   "execution_count": 5,
   "id": "f09675df-4910-44e6-968c-d1a2458cea7e",
   "metadata": {},
   "outputs": [
    {
     "name": "stdout",
     "output_type": "stream",
     "text": [
      "['EST:B']\n"
     ]
    }
   ],
   "source": [
    "print(find_ligands_in_traj(traj))"
   ]
  },
  {
   "cell_type": "code",
   "execution_count": 6,
   "id": "140a82ee-aa23-43a7-9b02-8d4eca8582e7",
   "metadata": {},
   "outputs": [],
   "source": [
    "ligand_id = \"EST:B\"\n",
    "centroid = ligand_centroid(traj, ligand_id) * 10 # convert to angstroms\n",
    "extent = ligand_maximum_extent(traj, ligand_id) * 10"
   ]
  },
  {
   "cell_type": "code",
   "execution_count": 7,
   "id": "5bdeeb6c-41b8-4953-9e27-e1d553cdc829",
   "metadata": {},
   "outputs": [
    {
     "data": {
      "application/vnd.jupyter.widget-view+json": {
       "model_id": "16c274f5a75e41869cc085f7aaad4c98",
       "version_major": 2,
       "version_minor": 0
      },
      "text/plain": [
       "NGLWidget()"
      ]
     },
     "metadata": {},
     "output_type": "display_data"
    }
   ],
   "source": [
    "add_sphere_to_view(view, centroid, extent)\n",
    "view"
   ]
  }
 ],
 "metadata": {
  "kernelspec": {
   "display_name": "Python 3 (ipykernel)",
   "language": "python",
   "name": "python3"
  },
  "language_info": {
   "codemirror_mode": {
    "name": "ipython",
    "version": 3
   },
   "file_extension": ".py",
   "mimetype": "text/x-python",
   "name": "python",
   "nbconvert_exporter": "python",
   "pygments_lexer": "ipython3",
   "version": "3.7.12"
  }
 },
 "nbformat": 4,
 "nbformat_minor": 5
}
